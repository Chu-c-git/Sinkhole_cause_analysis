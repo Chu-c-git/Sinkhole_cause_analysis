{
 "cells": [
  {
   "cell_type": "code",
   "execution_count": 6,
   "metadata": {},
   "outputs": [],
   "source": [
    "import os\n",
    "import xml.etree.ElementTree as ET\n",
    "from datetime import datetime\n",
    "\n",
    "import geopandas as gpd\n",
    "from function import *"
   ]
  },
  {
   "cell_type": "code",
   "execution_count": 10,
   "metadata": {},
   "outputs": [],
   "source": [
    "import download\n",
    "import preprocess_time_series\n",
    "import train_time_series"
   ]
  },
  {
   "cell_type": "markdown",
   "metadata": {},
   "source": [
    "# Downloading"
   ]
  },
  {
   "cell_type": "code",
   "execution_count": 11,
   "metadata": {},
   "outputs": [
    {
     "name": "stdout",
     "output_type": "stream",
     "text": [
      "Folder exists.\n",
      "Data Downloading Start at 2024-06-25 21:10:11!\n",
      "\n",
      "Data Downloading Start at 2024-06-25 21:10:11!\n",
      "\n",
      "RIVWLSTA_e.zip already exists. Skipping download.\n",
      "gwobwell_e.zip already exists. Skipping download.\n",
      "J0101-3.geojson already exists. Skipping download.\n",
      "J0201-5.geojson already exists. Skipping download.\n",
      "J0501-5.geojson already exists. Skipping download.\n",
      "J0301-3-5_合併.geojson already exists. Skipping download.\n",
      "J0401-5.geojson already exists. Skipping download.\n",
      "TPLiquid_84.geojson already exists. Skipping download.\n",
      "A8030101_11212_4.xml already exists. Skipping download.\n",
      "A8040201_11212.xml already exists. Skipping download.\n",
      "A8040101_11212_2.xml already exists. Skipping download.\n",
      "A8040401_11212.xml already exists. Skipping download.\n",
      "Taipei02_90年至100年使照.xml already exists. Skipping download.\n",
      "Taipei02_101年至112年使照.xml already exists. Skipping download.\n",
      "臺北市區界圖_20220915.zip already exists. Skipping download.\n",
      "C-B0025-002.zip unzipped to C-B0025-002/\n",
      "E-A0073-002.zip unzipped to E-A0073-002/\n",
      "gwobwell_e.zip unzipped to gwobwell_e/\n",
      "RIVWLSTA_e.zip unzipped to RIVWLSTA_e/\n",
      "臺北市區界圖_20220915.zip unzipped to 臺北市區界圖_20220915/\n",
      "== Auto_download_file ==\n",
      "All files have been downloaded.\n",
      "== Manually_download_file ==\n",
      "All files have been downloaded.\n",
      "== Requested_download_file ==\n",
      "All files have been downloaded.\n",
      "\n",
      "Data Downloading Complete at 2024-06-25 21:10:12!\n",
      "\n",
      "Data Downloading Finished at 2024-06-25 21:10:12!\n",
      "\n",
      "Processing Time on Data Downloading is 0:00:00.784317!\n"
     ]
    }
   ],
   "source": [
    "# Initialize with download\n",
    "download_manager = download.Download()\n",
    "\n",
    "# Measure and print the start time of data preprocessing\n",
    "start_time = datetime.now()\n",
    "print(f'Data Downloading Start at {start_time.strftime(\"%Y-%m-%d %H:%M:%S\")}!\\n')\n",
    "\n",
    "# Run the data downloading step\n",
    "download_manager.run()\n",
    "\n",
    "# Measure and print the end time of data preprocessing\n",
    "end_time = datetime.now()\n",
    "print(f'\\nData Downloading Finished at {end_time.strftime(\"%Y-%m-%d %H:%M:%S\")}!')\n",
    "\n",
    "# Calculate and print the processing time for data preprocessing\n",
    "processing_time = end_time - start_time\n",
    "print(f'\\nProcessing Time on Data Downloading is {processing_time}!')\n"
   ]
  },
  {
   "cell_type": "markdown",
   "metadata": {},
   "source": [
    "# Preprocessing"
   ]
  },
  {
   "cell_type": "code",
   "execution_count": null,
   "metadata": {},
   "outputs": [],
   "source": [
    "# Initialize with preprocess_time_series\n",
    "preprocess_time_series = preprocess_time_series.PreprocessTimeSeries()\n",
    "\n",
    "# Measure and print the start time of data preprocessing\n",
    "start_time = datetime.now().strftime('%Y-%m-%d %H:%M:%S')\n",
    "print(f'\\nData Preprocessing Start at {start_time}!\\n')\n",
    "\n",
    "# Run the data preprocessing step\n",
    "preprocess_time_series.run()\n",
    "\n",
    "# Measure and print the end time of data preprocessing\n",
    "end_time = datetime.now().strftime('%Y-%m-%d %H:%M:%S')\n",
    "print(f'\\nData Preprocessing Finished at {end_time}!')\n",
    "\n",
    "# Calculate and print the processing time for data preprocessing\n",
    "processing_time = end_time - start_time\n",
    "print(f'\\nProcessing Time on Data Preprocessing is {processing_time}!')"
   ]
  },
  {
   "cell_type": "markdown",
   "metadata": {},
   "source": [
    "# Model Training"
   ]
  },
  {
   "cell_type": "code",
   "execution_count": null,
   "metadata": {},
   "outputs": [],
   "source": []
  },
  {
   "cell_type": "code",
   "execution_count": null,
   "metadata": {},
   "outputs": [],
   "source": [
    "\n",
    "\n",
    "# Model Training\n",
    "train_lgbm = train.Train(date_list=date_list, model_name='LightGBM')\n",
    "train_xgb = train.Train(date_list=date_list, model_name='XGBoost')\n",
    "train_catb = train.Train(date_list=date_list, model_name='CATBoost')\n",
    "\n",
    "# Measure and print the start time of modeling (training)\n",
    "start_time = datetime.datetime.now()\n",
    "print(f'Modeling Start at {start_time}!\\n')\n",
    "\n",
    "# Run the model training steps\n",
    "train_lgbm.run()\n",
    "train_xgb.run()\n",
    "train_catb.run()\n",
    "\n",
    "# Measure and print the end time of modeling (training)\n",
    "end_time = datetime.datetime.now()\n",
    "print(f'\\nModeling Finished at {end_time}!')\n",
    "\n",
    "# Calculate and print the processing time for modeling\n",
    "processing_time = end_time - start_time\n",
    "print(f'\\nProcessing Time on Modeling is {processing_time}!')\n",
    "\n",
    "print('- ' * 40)\n",
    "\n",
    "# Inference\n",
    "i = inference.Inference()\n",
    "\n",
    "# Measure and print the start time of inference\n",
    "start_time = datetime.datetime.now()\n",
    "print(f'Inference Start at {start_time}!\\n')\n",
    "\n",
    "# Run the inference step\n",
    "i.run()\n",
    "\n",
    "# Measure and print the end time of inference\n",
    "end_time = datetime.datetime.now()\n",
    "print(f'\\nInference Finished at {end_time}!')\n",
    "\n",
    "# Calculate and print the processing time for inference\n",
    "processing_time = end_time - start_time\n",
    "print(f'\\nProcessing Time on Inference is {processing_time}!')"
   ]
  }
 ],
 "metadata": {
  "kernelspec": {
   "display_name": "sinkhole",
   "language": "python",
   "name": "python3"
  },
  "language_info": {
   "codemirror_mode": {
    "name": "ipython",
    "version": 3
   },
   "file_extension": ".py",
   "mimetype": "text/x-python",
   "name": "python",
   "nbconvert_exporter": "python",
   "pygments_lexer": "ipython3",
   "version": "3.12.4"
  }
 },
 "nbformat": 4,
 "nbformat_minor": 2
}
